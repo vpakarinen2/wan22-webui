{
 "cells": [
  {
   "cell_type": "code",
   "execution_count": null,
   "id": "0155d9fa",
   "metadata": {},
   "outputs": [],
   "source": [
    "!git clone https://github.com/vpakarinen2/wan22-webui.git /workspace"
   ]
  },
  {
   "cell_type": "code",
   "execution_count": null,
   "id": "54691570",
   "metadata": {
    "vscode": {
     "languageId": "plaintext"
    }
   },
   "outputs": [],
   "source": [
    "!test -d /workspace/Wan2.2 || git clone https://github.com/Wan-Video/Wan2.2 /workspace/Wan2.2\n",
    "!mkdir -p /workspace/models /workspace/outputs /workspace/logs /workspace/cache"
   ]
  },
  {
   "cell_type": "code",
   "execution_count": null,
   "id": "536aa5a0",
   "metadata": {
    "vscode": {
     "languageId": "plaintext"
    }
   },
   "outputs": [],
   "source": [
    "!touch .env\n",
    "\n",
    "!echo \"WAN_REPO_ROOT=/workspace/Wan2.2\"           >> /workspace/.env\n",
    "!echo \"WAN_MODELS_ROOT=/workspace/models\"         >> /workspace/.env\n",
    "!echo \"WAN_OUTPUTS_ROOT=/workspace/outputs\"       >> /workspace/.env\n",
    "!echo \"WAN_LOGS_ROOT=/workspace/logs\"             >> /workspace/.env\n",
    "!echo \"WAN_CACHE_ROOT=/workspace/cache\"           >> /workspace/.env\n",
    "!echo \"WAN_EXECUTE=1\"                             >> /workspace/.env"
   ]
  },
  {
   "cell_type": "code",
   "execution_count": null,
   "id": "4d7e3780",
   "metadata": {
    "vscode": {
     "languageId": "plaintext"
    }
   },
   "outputs": [],
   "source": [
    "!apt-get update -y && apt-get install -y ffmpeg\n",
    "\n",
    "!python -m pip install -U pip setuptools wheel\n",
    "!python -m pip install -r /workspace/requirements.txt\n",
    "!python -m pip install -r /workspace/Wan2.2/requirements.txt\n",
    "\n",
    "!test -f /workspace/Wan2.2/requirements_s2v.txt && python -m pip install -r /workspace/Wan2.2/requirements_s2v.txt || true"
   ]
  },
  {
   "cell_type": "code",
   "execution_count": null,
   "id": "7eb2bc69",
   "metadata": {
    "vscode": {
     "languageId": "plaintext"
    }
   },
   "outputs": [],
   "source": [
    "!python -m pip install \"huggingface_hub[cli]\"\n",
    "\n",
    "!huggingface-cli download Wan-AI/Wan2.2-I2V-A14B --local-dir /workspace/models/Wan2.2-I2V-A14B --resume-download\n",
    "!huggingface-cli download Wan-AI/Wan2.2-S2V-14B --local-dir /workspace/models/Wan2.2-S2V-14B --resume-download"
   ]
  },
  {
   "cell_type": "code",
   "execution_count": null,
   "id": "3ce2d461",
   "metadata": {
    "vscode": {
     "languageId": "plaintext"
    }
   },
   "outputs": [],
   "source": [
    "!python run_app.py"
   ]
  }
 ],
 "metadata": {
  "language_info": {
   "name": "python"
  }
 },
 "nbformat": 4,
 "nbformat_minor": 5
}
