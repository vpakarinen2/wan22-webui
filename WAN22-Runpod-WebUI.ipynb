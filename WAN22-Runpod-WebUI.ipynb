{
 "cells": [
  {
   "cell_type": "code",
   "execution_count": null,
   "id": "0155d9fa",
   "metadata": {},
   "outputs": [],
   "source": [
    "!git clone --depth 1 \"https://github.com/vpakarinen2/wan22-webui.git\" /tmp/wan22_webui_clone && rm -rf /tmp/wan22_webui_clone/.git /tmp/wan22_webui_clone/.github && cp -a /tmp/wan22_webui_clone/. /workspace/ && rm -rf /tmp/wan22_webui_clone"
   ]
  },
  {
   "cell_type": "code",
   "execution_count": null,
   "id": "54691570",
   "metadata": {
    "vscode": {
     "languageId": "plaintext"
    }
   },
   "outputs": [],
   "source": [
    "!([ -d /workspace/Wan2.2/.git ] || git clone --depth 1 --single-branch https://github.com/Wan-Video/Wan2.2 /workspace/Wan2.2 ) && mkdir -p /workspace/{models,outputs,logs,cache}\n",
    "!( [ -d /workspace/VideoX-Fun/.git ] || git clone --depth 1 https://github.com/aigc-apps/VideoX-Fun /workspace/VideoX-Fun )"
   ]
  },
  {
   "cell_type": "code",
   "execution_count": null,
   "id": "536aa5a0",
   "metadata": {
    "vscode": {
     "languageId": "plaintext"
    }
   },
   "outputs": [],
   "source": [
    "!rm -f /workspace/.env\n",
    "!touch /workspace/.env\n",
    "\n",
    "!echo \"WAN_REPO_ROOT=/workspace/Wan2.2\"      >> /workspace/.env\n",
    "!echo \"WAN_MODELS_ROOT=/workspace/models\"    >> /workspace/.env\n",
    "!echo \"WAN_OUTPUTS_ROOT=/workspace/outputs\"  >> /workspace/.env\n",
    "!echo \"WAN_LOGS_ROOT=/workspace/logs\"        >> /workspace/.env\n",
    "!echo \"WAN_CACHE_ROOT=/workspace/cache\"      >> /workspace/.env\n",
    "!echo \"WAN_EXECUTE=1\"                        >> /workspace/.env\n",
    "\n",
    "!echo \"WAN_VIDEOX_FUN_ROOT=/workspace/VideoX-Fun\" >> /workspace/.env\n",
    "!echo \"PYTHONWARNINGS=ignore::UserWarning:controlnet_aux.*;ignore::FutureWarning:timm.*\" >> /workspace/.env\n",
    "\n",
    "!echo \"Wrote /workspace/.env:\" && sed -n '1,200p' /workspace/.env"
   ]
  },
  {
   "cell_type": "code",
   "execution_count": null,
   "id": "4d7e3780",
   "metadata": {
    "vscode": {
     "languageId": "plaintext"
    }
   },
   "outputs": [],
   "source": [
    "!command -v ffmpeg >/dev/null 2>&1 || (apt-get update -y && apt-get install -y ffmpeg)\n",
    "\n",
    "%pip -q install -U pip setuptools wheel\n",
    "%pip -q install -r /workspace/requirements.txt -r /workspace/Wan2.2/requirements.txt\n",
    "%pip -q install controlnet-aux timm opencv-python-headless\n",
    "%pip -q install omegaconf\n",
    "    \n",
    "![ -f /workspace/Wan2.2/requirements_s2v.txt ] && python -m pip install -q -r /workspace/Wan2.2/requirements_s2v.txt || true"
   ]
  },
  {
   "cell_type": "code",
   "execution_count": null,
   "id": "7eb2bc69",
   "metadata": {
    "vscode": {
     "languageId": "plaintext"
    }
   },
   "outputs": [],
   "source": [
    "%pip -q install -U huggingface_hub[cli] hf-transfer\n",
    "\n",
    "!HF_HUB_ENABLE_HF_TRANSFER=1 huggingface-cli download Wan-AI/Wan2.2-I2V-A14B --local-dir /workspace/models/Wan2.2-I2V-A14B --resume-download\n",
    "!HF_HUB_ENABLE_HF_TRANSFER=1 huggingface-cli download Wan-AI/Wan2.2-S2V-14B --local-dir /workspace/models/Wan2.2-S2V-14B --resume-download\n",
    "!HF_HUB_ENABLE_HF_TRANSFER=1 huggingface-cli download alibaba-pai/Wan2.2-Fun-A14B-Control --local-dir /workspace/models/Wan2.2-Fun-A14B-Control --resume-download"
   ]
  },
  {
   "cell_type": "code",
   "execution_count": null,
   "id": "3ce2d461",
   "metadata": {
    "vscode": {
     "languageId": "plaintext"
    }
   },
   "outputs": [],
   "source": [
    "!python -u run_app.py"
   ]
  }
 ],
 "metadata": {
  "language_info": {
   "name": "python"
  }
 },
 "nbformat": 4,
 "nbformat_minor": 5
}
